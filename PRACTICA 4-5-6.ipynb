{
 "cells": [
  {
   "cell_type": "code",
   "execution_count": 49,
   "metadata": {},
   "outputs": [
    {
     "name": "stdout",
     "output_type": "stream",
     "text": [
      "There are 10 horses available.\n",
      "There are only 7 jockeys available.\n",
      "There will be 3 empty horses today.\n",
      "We can transport 14 people today.\n",
      "We have 8 to carpool today.\n",
      "We need to put about 1.1428571428571428 in each car.\n"
     ]
    }
   ],
   "source": [
    "horses=10\n",
    "space_in_horses=2\n",
    "jockeys=7\n",
    "passengers=8\n",
    "unmounted_horses=horses-jockeys\n",
    "mounted_horses=jockeys\n",
    "capacity=jockeys * space_in_horses\n",
    "average_passengers_per_horse=passengers/jockeys\n",
    "print(\"There are\", horses, \"horses available.\")\n",
    "print(\"There are only\", jockeys, \"jockeys available.\")\n",
    "print(\"There will be\", unmounted_horses , \"empty horses today.\")\n",
    "print(\"We can transport\", capacity, \"people today.\")   \n",
    "print(\"We have\", passengers, \"to carpool today.\")\n",
    "print(\"We need to put about\", average_passengers_per_horse, \"in each car.\")\n"
   ]
  },
  {
   "cell_type": "code",
   "execution_count": 46,
   "metadata": {},
   "outputs": [
    {
     "name": "stdout",
     "output_type": "stream",
     "text": [
      "you can declare variables with the names that you choose to later be able to make various appeals with them without writing a single number, simply by putting the name of the variable, then an equal sign and the corresponding value and ready; As we already know, the PRINT command is used to print a message on the screen, if we want to print a variable on the screen we have to put it in the part of the text that we need by opening it with a comma and putting it without quotes and we also close with a comma.\n",
      "In the case of errors such as -is not defined- they usually happen because we have not previously defined the value of the variable or because the variable we just wrote has the name we have set when we define it; python can define the type of data so it is not necessary to define if the data is int, float, etc.\n"
     ]
    }
   ],
   "source": [
    "print(\"you can declare variables with the names that you choose to later be able to make various appeals with them without writing a single number, simply by putting the name of the variable, then an equal sign and the corresponding value and ready; As we already know, the PRINT command is used to print a message on the screen, if we want to print a variable on the screen we have to put it in the part of the text that we need by opening it with a comma and putting it without quotes and we also close with a comma.\")\n",
    "print(\"In the case of errors such as -is not defined- they usually happen because we have not previously defined the value of the variable or because the variable we just wrote has the name we have set when we define it; python can define the type of data so it is not necessary to define if the data is int, float, etc.\")"
   ]
  },
  {
   "cell_type": "code",
   "execution_count": 50,
   "metadata": {},
   "outputs": [
    {
     "name": "stdout",
     "output_type": "stream",
     "text": [
      "Let's talk about Chevrolet.\n",
      "It´s redin all models.\n",
      "It's 50 inches tall.\n",
      "It´s 127.0 centimeters tall.\n",
      "It's 4000 pounds heavy.\n",
      "It's 1814.368 kilograms heavy.\n"
     ]
    }
   ],
   "source": [
    "model='Chevrolet'\n",
    "color='red'\n",
    "height =50 # inches\n",
    "weight = 4000 # lbs\n",
    "color_wheells='black'\n",
    "kilos=weight*0.453592\n",
    "inches=height*2.54\n",
    "print(f\"Let's talk about {model}.\") \n",
    "print(f\"It´s {color}in all models.\")\n",
    "print(f\"It's {height} inches tall.\")\n",
    "print(f\"It´s {inches} centimeters tall.\")\n",
    "print(f\"It's {weight} pounds heavy.\")\n",
    "print(f\"It's {kilos} kilograms heavy.\")"
   ]
  },
  {
   "cell_type": "code",
   "execution_count": 55,
   "metadata": {},
   "outputs": [
    {
     "name": "stdout",
     "output_type": "stream",
     "text": [
      "to place text in a variable declare the variable and put the text in single quotes '---', to be able to print on the screen the message of the variable we have to write the PRINT command we open parentecis and we place an f before the quotes of text and inside the text we put the name of our variable in {}.\n"
     ]
    }
   ],
   "source": [
    "print(\"To place text in a variable declare the variable and put the text in single quotes '---', to be able to print on the screen the message of the variable we have to write the PRINT command we open parentecis and we place an f before the quotes of text and inside the text we put the name of our variable in {}.\")"
   ]
  },
  {
   "cell_type": "code",
   "execution_count": 94,
   "metadata": {},
   "outputs": [
    {
     "name": "stdout",
     "output_type": "stream",
     "text": [
      "there are 2 types of computers\n",
      "there are LAPTOP and PC\n",
      "I said: there are 2 types of computers\n",
      "I also said: 'there are LAPTOP and PC'\n",
      "Are there other types of computers?False\n",
      "Interesting...or not?\n"
     ]
    }
   ],
   "source": [
    "computer=2\n",
    "x= f\"there are {computer} types of computers\"\n",
    "G=\"LAPTOP\"\n",
    "P=\"PC\"\n",
    "y=f\"there are {G} and {P}\"\n",
    "print(x) \n",
    "print(y)\n",
    "print(f\"I said: {x}\")\n",
    "print(f\"I also said: '{y}'\")\n",
    "Other= False\n",
    "ask=\"Are there other types of computers?{}\" \n",
    "print(ask.format(Other))\n",
    "Q=\"Interesting...\"\n",
    "A=\"or not?\"\n",
    "print(Q+A)"
   ]
  },
  {
   "cell_type": "code",
   "execution_count": 95,
   "metadata": {},
   "outputs": [
    {
     "name": "stdout",
     "output_type": "stream",
     "text": [
      "We can save space by shortening the names of the variables and putting in them text strings as well as calling these many times we want, we can also make the longer strings by adding them between their with the plus sign\n"
     ]
    }
   ],
   "source": [
    "print(\"We can save space by shortening the names of the variables and putting in them text strings as well as calling these many times we want, we can also make the longer strings by adding them between their with the plus sign\")"
   ]
  },
  {
   "cell_type": "code",
   "execution_count": null,
   "metadata": {},
   "outputs": [],
   "source": []
  }
 ],
 "metadata": {
  "kernelspec": {
   "display_name": "Python 3",
   "language": "python",
   "name": "python3"
  },
  "language_info": {
   "codemirror_mode": {
    "name": "ipython",
    "version": 3
   },
   "file_extension": ".py",
   "mimetype": "text/x-python",
   "name": "python",
   "nbconvert_exporter": "python",
   "pygments_lexer": "ipython3",
   "version": "3.7.3"
  }
 },
 "nbformat": 4,
 "nbformat_minor": 2
}
